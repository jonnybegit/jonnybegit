{
 "cells": [
  {
   "cell_type": "markdown",
   "id": "e57f85cb-873a-408c-b78b-fddbbc626c73",
   "metadata": {},
   "source": [
    "## 1. Problem Background\n",
    "\n",
    "Try and predict how much money to budget for sales commissions. \n",
    "We have a defined formula for calculating commissions and we likely have some experience with prior year's commissions payments.\n",
    "\n",
    "![ChessUrl](https://pbpython.com/images/Excel_Table_1.png \"chess\")\n",
    "\n",
    "Commission Amount = Actual Sales * Commission Rate\n",
    "\n",
    "Where commission rate is the percentage or fixed payment associated with a certain amount of sale. Usually a service charge assessed by a broker or investment advisor.\n",
    "\n",
    "Commission rate is based on the percent to plan table:\n",
    "E.g. how much of their target they met.\n",
    "![ChessUrl](https://pbpython.com/images/Excel_Table_4.png \"chess\")\n",
    "\n",
    "For Monte Carlo you can iterate through each commission rate for each sales person to determine a range of outcomes.\n",
    "\n",
    "There are two components to Monte Carlo:\n",
    "- The equation to evaluate\n",
    "- The random variables for input\n",
    "\n",
    "![ChessUrl](https://pbpython.com/images/monte_carlo_image_hist_pct.png \"chess\")\n",
    "\n",
    "Normal distribution with a mean of 100% and standard deviation of 10%.\n",
    "We can model our input variable didstribution so that it is similar to our real world experience.\n"
   ]
  },
  {
   "cell_type": "markdown",
   "id": "f1e0f8f8-a600-459a-bfc6-deffbdb7c6ab",
   "metadata": {},
   "source": [
    "## Building a Normal Distribution of the % to Target Distribution\n",
    "Using pandas to construct a model that replicates the excel spreadsheet calculation."
   ]
  },
  {
   "cell_type": "code",
   "execution_count": 33,
   "id": "5105c54b-5cb2-4777-a617-30bf2ebd48a9",
   "metadata": {},
   "outputs": [],
   "source": [
    "import pandas as pd\n",
    "import numpy as np\n",
    "import seaborn as sns\n",
    "\n",
    "sns.set_style('whitegrid')"
   ]
  },
  {
   "cell_type": "code",
   "execution_count": 34,
   "id": "61298676-d313-42e8-ba46-beecce69cf27",
   "metadata": {},
   "outputs": [],
   "source": [
    "#Use random numper generation for numpy.\n",
    "#Numpy has several random number generator that can create random samples based on a \n",
    "#predefined distribution\n",
    "\n",
    "#mean of 100%\n",
    "avg = 1\n",
    "\n",
    "#std_dev of 10%\n",
    "std_dev =.1\n",
    "\n",
    "#500 sales reps\n",
    "num_reps = 500\n"
   ]
  },
  {
   "cell_type": "code",
   "execution_count": 35,
   "id": "780b6b32-5140-47d0-8bd4-d1bf86e01497",
   "metadata": {},
   "outputs": [
    {
     "data": {
      "text/plain": [
       "array([0.87, 1.05, 0.91, 1.08, 0.97, 0.94, 1.06, 1.12, 0.91, 0.85])"
      ]
     },
     "execution_count": 35,
     "metadata": {},
     "output_type": "execute_result"
    }
   ],
   "source": [
    "#Use numpy to generate a list of percentages that will replicate the historical\n",
    "#normal distribution\n",
    "\n",
    "pct_to_target = np.random.normal(avg, std_dev, num_reps).round(2)\n",
    "#rounded to 2 decimal places\n",
    "pct_to_target[:10]"
   ]
  },
  {
   "cell_type": "markdown",
   "id": "07a5f44f-68d9-4c58-819b-067dc89b2713",
   "metadata": {},
   "source": [
    "## Building a Scaled Uniform Distribution for the Historic Sales Target Distribution\n",
    "\n",
    "The historic sales targets show that sales targets are in 1 of 6 buckets and the frequency decreases as the amount increases. E.g. individuals could be bucketed into certain groups and given targets based on tenure, terroritoy or sales pipelines.\n",
    "\n",
    "![](https://pbpython.com/images/monte_carlo_sales_target.png \"sales_targets\")"
   ]
  },
  {
   "cell_type": "code",
   "execution_count": 36,
   "id": "f96f363f-7fa9-498e-a122-5ebe81afc02e",
   "metadata": {},
   "outputs": [
    {
     "data": {
      "text/plain": [
       "array([100000, 200000, 100000,  75000,  75000,  75000, 500000, 200000,\n",
       "       100000, 100000])"
      ]
     },
     "execution_count": 36,
     "metadata": {},
     "output_type": "execute_result"
    }
   ],
   "source": [
    "#Use nump.random.choice to recreate the historic sales target distribution\n",
    "\n",
    "sales_target_values = [75000, 100000, 200000, 300000, 400000, 500000]\n",
    "sales_target_prob = [.3, .3, .2, .1, .05, .05]\n",
    "#The choice() method returns a randomly selected element from the specified sequence.\n",
    "sales_target = np.random.choice(sales_target_values, num_reps, p=sales_target_prob)\n",
    "sales_target[:10]"
   ]
  },
  {
   "cell_type": "markdown",
   "id": "865d5c8a-8541-4b2a-bdfa-71342013546e",
   "metadata": {},
   "source": [
    "## Build a Dataframe Containing Both Distribution\n",
    "Both distributions (sales_target and pct_to_target contain 500 sales reps with randomly distributed values"
   ]
  },
  {
   "cell_type": "code",
   "execution_count": 37,
   "id": "a9273b60-fb97-4cf1-89dd-1a222317cdda",
   "metadata": {},
   "outputs": [
    {
     "data": {
      "text/html": [
       "<div>\n",
       "<style scoped>\n",
       "    .dataframe tbody tr th:only-of-type {\n",
       "        vertical-align: middle;\n",
       "    }\n",
       "\n",
       "    .dataframe tbody tr th {\n",
       "        vertical-align: top;\n",
       "    }\n",
       "\n",
       "    .dataframe thead th {\n",
       "        text-align: right;\n",
       "    }\n",
       "</style>\n",
       "<table border=\"1\" class=\"dataframe\">\n",
       "  <thead>\n",
       "    <tr style=\"text-align: right;\">\n",
       "      <th></th>\n",
       "      <th>Pct_To_Target</th>\n",
       "      <th>Sales_Target</th>\n",
       "      <th>Sales</th>\n",
       "    </tr>\n",
       "  </thead>\n",
       "  <tbody>\n",
       "    <tr>\n",
       "      <th>0</th>\n",
       "      <td>0.87</td>\n",
       "      <td>100000</td>\n",
       "      <td>87000.0</td>\n",
       "    </tr>\n",
       "    <tr>\n",
       "      <th>1</th>\n",
       "      <td>1.05</td>\n",
       "      <td>200000</td>\n",
       "      <td>210000.0</td>\n",
       "    </tr>\n",
       "    <tr>\n",
       "      <th>2</th>\n",
       "      <td>0.91</td>\n",
       "      <td>100000</td>\n",
       "      <td>91000.0</td>\n",
       "    </tr>\n",
       "    <tr>\n",
       "      <th>3</th>\n",
       "      <td>1.08</td>\n",
       "      <td>75000</td>\n",
       "      <td>81000.0</td>\n",
       "    </tr>\n",
       "    <tr>\n",
       "      <th>4</th>\n",
       "      <td>0.97</td>\n",
       "      <td>75000</td>\n",
       "      <td>72750.0</td>\n",
       "    </tr>\n",
       "  </tbody>\n",
       "</table>\n",
       "</div>"
      ],
      "text/plain": [
       "   Pct_To_Target  Sales_Target     Sales\n",
       "0           0.87        100000   87000.0\n",
       "1           1.05        200000  210000.0\n",
       "2           0.91        100000   91000.0\n",
       "3           1.08         75000   81000.0\n",
       "4           0.97         75000   72750.0"
      ]
     },
     "execution_count": 37,
     "metadata": {},
     "output_type": "execute_result"
    }
   ],
   "source": [
    "df = pd.DataFrame(index=range(num_reps), data={'Pct_To_Target': pct_to_target,\n",
    "                                              'Sales_Target': sales_target})\n",
    "df['Sales'] = df['Pct_To_Target'] * df['Sales_Target']\n",
    "df.head()"
   ]
  },
  {
   "cell_type": "markdown",
   "id": "94b3a179-f22d-49bb-b2a0-5be27539ea12",
   "metadata": {},
   "source": [
    "## Map the Pct_To_Target to the Commission Rate\n",
    "\n",
    "Looking to copy the table below:\n",
    "\n",
    "![](https://pbpython.com/images/Excel_Table_4.png 'Commision Rate Table')"
   ]
  },
  {
   "cell_type": "code",
   "execution_count": 38,
   "id": "c4866ffe-0aff-41b6-8520-520bf882e462",
   "metadata": {},
   "outputs": [],
   "source": [
    "def calc_commission_rate(x):\n",
    "    \"\"\"Returns the commisision rate based on the above table\"\"\"\n",
    "    if x <= .9:\n",
    "        return .02\n",
    "    if x <= .99:\n",
    "        return .03\n",
    "    else:\n",
    "        return .04"
   ]
  },
  {
   "cell_type": "code",
   "execution_count": 39,
   "id": "795f0296-05ef-4230-b121-fd9b9186a310",
   "metadata": {},
   "outputs": [
    {
     "data": {
      "text/html": [
       "<div>\n",
       "<style scoped>\n",
       "    .dataframe tbody tr th:only-of-type {\n",
       "        vertical-align: middle;\n",
       "    }\n",
       "\n",
       "    .dataframe tbody tr th {\n",
       "        vertical-align: top;\n",
       "    }\n",
       "\n",
       "    .dataframe thead th {\n",
       "        text-align: right;\n",
       "    }\n",
       "</style>\n",
       "<table border=\"1\" class=\"dataframe\">\n",
       "  <thead>\n",
       "    <tr style=\"text-align: right;\">\n",
       "      <th></th>\n",
       "      <th>Pct_To_Target</th>\n",
       "      <th>Sales_Target</th>\n",
       "      <th>Sales</th>\n",
       "      <th>Commission_Rate</th>\n",
       "      <th>Commission_Amount</th>\n",
       "    </tr>\n",
       "  </thead>\n",
       "  <tbody>\n",
       "    <tr>\n",
       "      <th>0</th>\n",
       "      <td>0.87</td>\n",
       "      <td>100000</td>\n",
       "      <td>87000.0</td>\n",
       "      <td>0.02</td>\n",
       "      <td>1740.0</td>\n",
       "    </tr>\n",
       "    <tr>\n",
       "      <th>1</th>\n",
       "      <td>1.05</td>\n",
       "      <td>200000</td>\n",
       "      <td>210000.0</td>\n",
       "      <td>0.04</td>\n",
       "      <td>8400.0</td>\n",
       "    </tr>\n",
       "    <tr>\n",
       "      <th>2</th>\n",
       "      <td>0.91</td>\n",
       "      <td>100000</td>\n",
       "      <td>91000.0</td>\n",
       "      <td>0.03</td>\n",
       "      <td>2730.0</td>\n",
       "    </tr>\n",
       "    <tr>\n",
       "      <th>3</th>\n",
       "      <td>1.08</td>\n",
       "      <td>75000</td>\n",
       "      <td>81000.0</td>\n",
       "      <td>0.04</td>\n",
       "      <td>3240.0</td>\n",
       "    </tr>\n",
       "    <tr>\n",
       "      <th>4</th>\n",
       "      <td>0.97</td>\n",
       "      <td>75000</td>\n",
       "      <td>72750.0</td>\n",
       "      <td>0.03</td>\n",
       "      <td>2182.5</td>\n",
       "    </tr>\n",
       "  </tbody>\n",
       "</table>\n",
       "</div>"
      ],
      "text/plain": [
       "   Pct_To_Target  Sales_Target     Sales  Commission_Rate  Commission_Amount\n",
       "0           0.87        100000   87000.0             0.02             1740.0\n",
       "1           1.05        200000  210000.0             0.04             8400.0\n",
       "2           0.91        100000   91000.0             0.03             2730.0\n",
       "3           1.08         75000   81000.0             0.04             3240.0\n",
       "4           0.97         75000   72750.0             0.03             2182.5"
      ]
     },
     "execution_count": 39,
     "metadata": {},
     "output_type": "execute_result"
    }
   ],
   "source": [
    "#Apply the above function to pct_target and then calculate the commission amount\n",
    "df['Commission_Rate'] = df['Pct_To_Target'].apply(calc_commission_rate)\n",
    "df['Commission_Amount'] = df['Commission_Rate'] * df['Sales']\n",
    "df.head()"
   ]
  },
  {
   "cell_type": "markdown",
   "id": "081e6fef-0a0c-43dd-b1b9-c3ba59ff2d24",
   "metadata": {},
   "source": [
    "## Loop the Sales Table to Simulate the Outcome\n",
    "\n",
    "Basically, now repeat what was written down previously in calculating the normal and scaled uniform distributions to calculate the sales_targets and the percent to target"
   ]
  },
  {
   "cell_type": "code",
   "execution_count": 40,
   "id": "b3a0f52b-4a0e-4c9d-aa7d-f3552ccae5ef",
   "metadata": {},
   "outputs": [],
   "source": [
    "#this list will hold all of the outputs\n",
    "all_stats = []\n",
    "\n",
    "#1000 simulations\n",
    "num_simulations = 10000\n",
    "\n",
    "for i in range (num_simulations):\n",
    "    \n",
    "    #Generate distribution\n",
    "    sales_target = np.random.choice(sales_target_values, num_reps, p=sales_target_prob)\n",
    "    pct_to_target = np.random.normal(avg, std_dev, num_reps).round(2)\n",
    "    \n",
    "    #Build the dataframe\n",
    "    df = pd.DataFrame(index=range(num_reps), data={'Pct_To_Target':pct_to_target,\n",
    "                                                  'Sales_Target':sales_target})\n",
    "    \n",
    "    #Calculate sales, Commission rate and Commission amount\n",
    "    df['Sales'] = df['Pct_To_Target'] * df['Sales_Target']\n",
    "    df['Commission_Rate'] = df['Sales'].apply(calc_commission_rate)\n",
    "    df['Commission_Amount'] = df['Commission_Rate'] * df['Sales']\n",
    "    \n",
    "    #Track the sales, commission amounts and sales targets\n",
    "    all_stats.append([df['Sales'].sum().round(0),\n",
    "                    df['Commission_Amount'].sum().round(0),\n",
    "                    df['Sales_Target'].sum().round(0)])"
   ]
  },
  {
   "cell_type": "code",
   "execution_count": 41,
   "id": "d2b423cc-2726-4192-a7a6-a3e3cb065d63",
   "metadata": {},
   "outputs": [
    {
     "data": {
      "text/plain": [
       "[[81077750.0, 3243110.0, 81125000],\n",
       " [82114500.0, 3284580.0, 80975000],\n",
       " [81690500.0, 3267620.0, 82100000],\n",
       " [84240500.0, 3369620.0, 83700000],\n",
       " [82499750.0, 3299990.0, 82450000]]"
      ]
     },
     "execution_count": 41,
     "metadata": {},
     "output_type": "execute_result"
    }
   ],
   "source": [
    "all_stats[:5]"
   ]
  },
  {
   "cell_type": "code",
   "execution_count": 42,
   "id": "09076158-d0ad-44d6-9cf6-5c429eac2156",
   "metadata": {},
   "outputs": [
    {
     "data": {
      "text/html": [
       "<style  type=\"text/css\" >\n",
       "</style><table id=\"T_098bd_\" ><thead>    <tr>        <th class=\"blank level0\" ></th>        <th class=\"col_heading level0 col0\" >Sales</th>        <th class=\"col_heading level0 col1\" >Commission_Amount</th>        <th class=\"col_heading level0 col2\" >Sales_Target</th>    </tr></thead><tbody>\n",
       "                <tr>\n",
       "                        <th id=\"T_098bd_level0_row0\" class=\"row_heading level0 row0\" >count</th>\n",
       "                        <td id=\"T_098bd_row0_col0\" class=\"data row0 col0\" >10,000.0</td>\n",
       "                        <td id=\"T_098bd_row0_col1\" class=\"data row0 col1\" >10,000.0</td>\n",
       "                        <td id=\"T_098bd_row0_col2\" class=\"data row0 col2\" >10,000.0</td>\n",
       "            </tr>\n",
       "            <tr>\n",
       "                        <th id=\"T_098bd_level0_row1\" class=\"row_heading level0 row1\" >mean</th>\n",
       "                        <td id=\"T_098bd_row1_col0\" class=\"data row1 col0\" >83,715,013.175</td>\n",
       "                        <td id=\"T_098bd_row1_col1\" class=\"data row1 col1\" >3,348,600.527</td>\n",
       "                        <td id=\"T_098bd_row1_col2\" class=\"data row1 col2\" >83,716,942.5</td>\n",
       "            </tr>\n",
       "            <tr>\n",
       "                        <th id=\"T_098bd_level0_row2\" class=\"row_heading level0 row2\" >std</th>\n",
       "                        <td id=\"T_098bd_row2_col0\" class=\"data row2 col0\" >2,685,451.5327201067</td>\n",
       "                        <td id=\"T_098bd_row2_col1\" class=\"data row2 col1\" >107,418.06130880286</td>\n",
       "                        <td id=\"T_098bd_row2_col2\" class=\"data row2 col2\" >2,643,384.9062460223</td>\n",
       "            </tr>\n",
       "            <tr>\n",
       "                        <th id=\"T_098bd_level0_row3\" class=\"row_heading level0 row3\" >min</th>\n",
       "                        <td id=\"T_098bd_row3_col0\" class=\"data row3 col0\" >73,138,000.0</td>\n",
       "                        <td id=\"T_098bd_row3_col1\" class=\"data row3 col1\" >2,925,520.0</td>\n",
       "                        <td id=\"T_098bd_row3_col2\" class=\"data row3 col2\" >73,175,000.0</td>\n",
       "            </tr>\n",
       "            <tr>\n",
       "                        <th id=\"T_098bd_level0_row4\" class=\"row_heading level0 row4\" >25%</th>\n",
       "                        <td id=\"T_098bd_row4_col0\" class=\"data row4 col0\" >81,868,250.0</td>\n",
       "                        <td id=\"T_098bd_row4_col1\" class=\"data row4 col1\" >3,274,730.0</td>\n",
       "                        <td id=\"T_098bd_row4_col2\" class=\"data row4 col2\" >81,925,000.0</td>\n",
       "            </tr>\n",
       "            <tr>\n",
       "                        <th id=\"T_098bd_level0_row5\" class=\"row_heading level0 row5\" >50%</th>\n",
       "                        <td id=\"T_098bd_row5_col0\" class=\"data row5 col0\" >83,692,750.0</td>\n",
       "                        <td id=\"T_098bd_row5_col1\" class=\"data row5 col1\" >3,347,710.0</td>\n",
       "                        <td id=\"T_098bd_row5_col2\" class=\"data row5 col2\" >83,700,000.0</td>\n",
       "            </tr>\n",
       "            <tr>\n",
       "                        <th id=\"T_098bd_level0_row6\" class=\"row_heading level0 row6\" >75%</th>\n",
       "                        <td id=\"T_098bd_row6_col0\" class=\"data row6 col0\" >85,531,812.5</td>\n",
       "                        <td id=\"T_098bd_row6_col1\" class=\"data row6 col1\" >3,421,272.5</td>\n",
       "                        <td id=\"T_098bd_row6_col2\" class=\"data row6 col2\" >85,481,250.0</td>\n",
       "            </tr>\n",
       "            <tr>\n",
       "                        <th id=\"T_098bd_level0_row7\" class=\"row_heading level0 row7\" >max</th>\n",
       "                        <td id=\"T_098bd_row7_col0\" class=\"data row7 col0\" >94,012,750.0</td>\n",
       "                        <td id=\"T_098bd_row7_col1\" class=\"data row7 col1\" >3,760,510.0</td>\n",
       "                        <td id=\"T_098bd_row7_col2\" class=\"data row7 col2\" >94,600,000.0</td>\n",
       "            </tr>\n",
       "    </tbody></table>"
      ],
      "text/plain": [
       "<pandas.io.formats.style.Styler at 0x1d3e8dfeaf0>"
      ]
     },
     "execution_count": 42,
     "metadata": {},
     "output_type": "execute_result"
    }
   ],
   "source": [
    "#Load all the stats into a dataframe and look at the stats\n",
    "#From records will convert a structed array into a dataframe\n",
    "results_df = pd.DataFrame.from_records(all_stats, columns=['Sales',\n",
    "                                                          'Commission_Amount',\n",
    "                                                          'Sales_Target'])\n",
    "\n",
    "results_df.describe().style.format('{:,}')"
   ]
  },
  {
   "cell_type": "code",
   "execution_count": null,
   "id": "a80a5ef1-adb5-4323-8a02-267b23576147",
   "metadata": {},
   "outputs": [],
   "source": []
  }
 ],
 "metadata": {
  "kernelspec": {
   "display_name": "Python 3",
   "language": "python",
   "name": "python3"
  },
  "language_info": {
   "codemirror_mode": {
    "name": "ipython",
    "version": 3
   },
   "file_extension": ".py",
   "mimetype": "text/x-python",
   "name": "python",
   "nbconvert_exporter": "python",
   "pygments_lexer": "ipython3",
   "version": "3.8.8"
  }
 },
 "nbformat": 4,
 "nbformat_minor": 5
}
