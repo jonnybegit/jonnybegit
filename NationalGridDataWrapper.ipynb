{
 "cells": [
  {
   "cell_type": "markdown",
   "id": "8166fd0f-0140-4d6d-9aa4-7a1435c75e70",
   "metadata": {},
   "source": [
    "## National Grid Data Wrapper"
   ]
  },
  {
   "cell_type": "markdown",
   "id": "4d6707c4-fbd9-4a82-a25f-40a8948cd346",
   "metadata": {},
   "source": [
    "The new National Grid ESO (Electricity System Operator) Data Portal was created in order to provide a \"centralised repository for published ESO data\" through means of a public API backed by a CKAN database. Currently it is still in Beta and the layout of the API as well as its contents may be subject to future change, furthermore it should be noted that during this stage the data streams may be updated later than their historic counterparts.\n",
    "\n",
    "Information taken from https://github.com/OSUKED/NGDataPortal/blob/master/README.md"
   ]
  },
  {
   "cell_type": "code",
   "execution_count": 32,
   "id": "2abd095f-c4e4-403e-8b43-c8e798e81a78",
   "metadata": {},
   "outputs": [],
   "source": [
    "from NGDataPortal import Wrapper"
   ]
  },
  {
   "cell_type": "code",
   "execution_count": 33,
   "id": "2b907519-caf9-4997-b170-a3a915738497",
   "metadata": {},
   "outputs": [],
   "source": [
    "stream = 'current-balancing-services-use-of-system-bsuos-data'\n",
    "wrapper = Wrapper(stream)\n",
    "#Wrapper(stream) will initialise the wrapper class. You must specify a stream to use"
   ]
  },
  {
   "cell_type": "code",
   "execution_count": 34,
   "id": "3c5aa45f-e7c6-4c5e-a13f-59566c9d16a9",
   "metadata": {},
   "outputs": [
    {
     "data": {
      "text/plain": [
       "['contracted-energy-volumes-and-data',\n",
       " 'firm-frequency-response-auction-results',\n",
       " 'fast-reserve-tender-reports',\n",
       " 'balancing-services-charging-report-bcr',\n",
       " 'current-balancing-services-use-of-system-bsuos-data',\n",
       " 'weekly-wind-availability',\n",
       " 'mbss',\n",
       " 'firm-frequency-response-market-information',\n",
       " 'balancing-services-use-of-system-bsuos-daily-cost',\n",
       " 'outturn-voltage-costs',\n",
       " 'fast-reserve-market-information-reports',\n",
       " 'bsuos-monthly-cost',\n",
       " 'bsuos-monthly-forecast',\n",
       " 'short-term-operating-reserve-stor',\n",
       " 'system-frequency-data',\n",
       " 'short-term-operating-reserve-tender-reports',\n",
       " 'daily-wind-availability',\n",
       " 'historic-demand-data',\n",
       " 'weekly-opmr',\n",
       " 'daily-opmr',\n",
       " '2-day-ahead-demand-forecast',\n",
       " 'day-ahead-constraint-flows-and-limits',\n",
       " 'disaggregated-bsad',\n",
       " 'aggregated-bsad',\n",
       " 'balancing-services-adjustment-data-forward-contracts',\n",
       " 'thermal-constraint-costs',\n",
       " 'daily-demand-update',\n",
       " 'balancing-services-use-of-system-bsuos-daily-forecast',\n",
       " 'obligatory-reactive-power-service-orps-utilisation',\n",
       " '7-day-ahead-national-forecast',\n",
       " 'firm-frequency-response-post-tender-reports',\n",
       " 'upcoming-trades',\n",
       " 'day-ahead-wind-forecast',\n",
       " '1-day-ahead-demand-forecast',\n",
       " 'embedded-wind-and-solar-forecasts',\n",
       " 'generation-mix-national']"
      ]
     },
     "execution_count": 34,
     "metadata": {},
     "output_type": "execute_result"
    }
   ],
   "source": [
    "wrapper.streams\n",
    "#wrapper.streams will provide a list of all the streams available"
   ]
  },
  {
   "cell_type": "code",
   "execution_count": 35,
   "id": "5a71b3f8-7bc6-4e62-99e0-28c7e5ae0e48",
   "metadata": {},
   "outputs": [
    {
     "ename": "KeyError",
     "evalue": "'message'",
     "output_type": "error",
     "traceback": [
      "\u001b[1;31m---------------------------------------------------------------------------\u001b[0m",
      "\u001b[1;31mKeyError\u001b[0m                                  Traceback (most recent call last)",
      "\u001b[1;32m<ipython-input-35-333c451a7ccc>\u001b[0m in \u001b[0;36m<module>\u001b[1;34m\u001b[0m\n\u001b[0;32m      6\u001b[0m \u001b[0mdt_col\u001b[0m \u001b[1;33m=\u001b[0m \u001b[1;34m'Settlement Day'\u001b[0m\u001b[1;33m\u001b[0m\u001b[1;33m\u001b[0m\u001b[0m\n\u001b[0;32m      7\u001b[0m \u001b[1;33m\u001b[0m\u001b[0m\n\u001b[1;32m----> 8\u001b[1;33m \u001b[0mdf\u001b[0m \u001b[1;33m=\u001b[0m \u001b[0mwrapper\u001b[0m\u001b[1;33m.\u001b[0m\u001b[0mquery_API\u001b[0m\u001b[1;33m(\u001b[0m\u001b[0mstart_date\u001b[0m\u001b[1;33m=\u001b[0m\u001b[0mstart_date\u001b[0m\u001b[1;33m,\u001b[0m \u001b[0mend_date\u001b[0m\u001b[1;33m=\u001b[0m\u001b[0mend_date\u001b[0m\u001b[1;33m,\u001b[0m \u001b[0mdt_col\u001b[0m\u001b[1;33m=\u001b[0m\u001b[0mdt_col\u001b[0m\u001b[1;33m)\u001b[0m\u001b[1;33m\u001b[0m\u001b[1;33m\u001b[0m\u001b[0m\n\u001b[0m\u001b[0;32m      9\u001b[0m \u001b[1;33m\u001b[0m\u001b[0m\n\u001b[0;32m     10\u001b[0m \u001b[0mdf\u001b[0m\u001b[1;33m.\u001b[0m\u001b[0mhead\u001b[0m\u001b[1;33m(\u001b[0m\u001b[1;33m)\u001b[0m\u001b[1;33m\u001b[0m\u001b[1;33m\u001b[0m\u001b[0m\n",
      "\u001b[1;32m~\\anaconda3\\lib\\site-packages\\NGDataPortal\\NGDataPortal.py\u001b[0m in \u001b[0;36mquery_API\u001b[1;34m(self, params, start_date, end_date, dt_col, sql, return_raw)\u001b[0m\n\u001b[0;32m     85\u001b[0m         \u001b[1;31m## Checking and parsing the response\u001b[0m\u001b[1;33m\u001b[0m\u001b[1;33m\u001b[0m\u001b[1;33m\u001b[0m\u001b[0m\n\u001b[0;32m     86\u001b[0m         \u001b[0mr_json\u001b[0m \u001b[1;33m=\u001b[0m \u001b[0mr\u001b[0m\u001b[1;33m.\u001b[0m\u001b[0mjson\u001b[0m\u001b[1;33m(\u001b[0m\u001b[1;33m)\u001b[0m\u001b[1;33m\u001b[0m\u001b[1;33m\u001b[0m\u001b[0m\n\u001b[1;32m---> 87\u001b[1;33m         \u001b[0mself\u001b[0m\u001b[1;33m.\u001b[0m\u001b[0mcheck_request_success\u001b[0m\u001b[1;33m(\u001b[0m\u001b[0mr_json\u001b[0m\u001b[1;33m)\u001b[0m\u001b[1;33m\u001b[0m\u001b[1;33m\u001b[0m\u001b[0m\n\u001b[0m\u001b[0;32m     88\u001b[0m \u001b[1;33m\u001b[0m\u001b[0m\n\u001b[0;32m     89\u001b[0m         \u001b[0mdf\u001b[0m \u001b[1;33m=\u001b[0m \u001b[0mpd\u001b[0m\u001b[1;33m.\u001b[0m\u001b[0mDataFrame\u001b[0m\u001b[1;33m(\u001b[0m\u001b[0mr_json\u001b[0m\u001b[1;33m[\u001b[0m\u001b[1;34m'result'\u001b[0m\u001b[1;33m]\u001b[0m\u001b[1;33m[\u001b[0m\u001b[1;34m'records'\u001b[0m\u001b[1;33m]\u001b[0m\u001b[1;33m)\u001b[0m\u001b[1;33m\u001b[0m\u001b[1;33m\u001b[0m\u001b[0m\n",
      "\u001b[1;32m~\\anaconda3\\lib\\site-packages\\NGDataPortal\\NGDataPortal.py\u001b[0m in \u001b[0;36mcheck_request_success\u001b[1;34m(self, r_json)\u001b[0m\n\u001b[0;32m     35\u001b[0m     \u001b[1;32mdef\u001b[0m \u001b[0mcheck_request_success\u001b[0m\u001b[1;33m(\u001b[0m\u001b[0mself\u001b[0m\u001b[1;33m,\u001b[0m \u001b[0mr_json\u001b[0m\u001b[1;33m)\u001b[0m\u001b[1;33m:\u001b[0m\u001b[1;33m\u001b[0m\u001b[1;33m\u001b[0m\u001b[0m\n\u001b[0;32m     36\u001b[0m         \u001b[1;32mif\u001b[0m \u001b[0mr_json\u001b[0m\u001b[1;33m[\u001b[0m\u001b[1;34m'success'\u001b[0m\u001b[1;33m]\u001b[0m \u001b[1;33m==\u001b[0m \u001b[1;32mFalse\u001b[0m\u001b[1;33m:\u001b[0m\u001b[1;33m\u001b[0m\u001b[1;33m\u001b[0m\u001b[0m\n\u001b[1;32m---> 37\u001b[1;33m             \u001b[0merr_msg\u001b[0m \u001b[1;33m=\u001b[0m \u001b[0mr_json\u001b[0m\u001b[1;33m[\u001b[0m\u001b[1;34m'error'\u001b[0m\u001b[1;33m]\u001b[0m\u001b[1;33m[\u001b[0m\u001b[1;34m'message'\u001b[0m\u001b[1;33m]\u001b[0m\u001b[1;33m\u001b[0m\u001b[1;33m\u001b[0m\u001b[0m\n\u001b[0m\u001b[0;32m     38\u001b[0m             \u001b[0mself\u001b[0m\u001b[1;33m.\u001b[0m\u001b[0mraise_\u001b[0m\u001b[1;33m(\u001b[0m\u001b[0merr_msg\u001b[0m\u001b[1;33m)\u001b[0m\u001b[1;33m\u001b[0m\u001b[1;33m\u001b[0m\u001b[0m\n\u001b[0;32m     39\u001b[0m \u001b[1;33m\u001b[0m\u001b[0m\n",
      "\u001b[1;31mKeyError\u001b[0m: 'message'"
     ]
    }
   ],
   "source": [
    "stream = 'current-balancing-services-use-of-system-bsuos-data'\n",
    "wrapper = Wrapper(stream=stream)\n",
    "\n",
    "start_date = '2019-12-20'\n",
    "end_date = '2019-12-22'\n",
    "dt_col = 'Settlement Day'\n",
    "\n",
    "df = wrapper.query_API(start_date=start_date, end_date=end_date, dt_col=dt_col)\n",
    "\n",
    "df.head()"
   ]
  },
  {
   "cell_type": "code",
   "execution_count": 36,
   "id": "62186324-d984-49c5-8bd0-5efc7315fd79",
   "metadata": {},
   "outputs": [
    {
     "ename": "KeyError",
     "evalue": "'message'",
     "output_type": "error",
     "traceback": [
      "\u001b[1;31m---------------------------------------------------------------------------\u001b[0m",
      "\u001b[1;31mKeyError\u001b[0m                                  Traceback (most recent call last)",
      "\u001b[1;32m<ipython-input-36-6242ea5e6c6c>\u001b[0m in \u001b[0;36m<module>\u001b[1;34m\u001b[0m\n\u001b[0;32m      3\u001b[0m \u001b[1;33m\u001b[0m\u001b[0m\n\u001b[0;32m      4\u001b[0m \u001b[0mSQL_query\u001b[0m \u001b[1;33m=\u001b[0m \u001b[1;34m'SELECT * from \"0a168493-5d67-4a26-8344-2fe0a5d4d20b\" WHERE \"dateTime_from\" BETWEEN \\'2019-12-30\\'::timestamp AND \\'2019-12-31\\'::timestamp ORDER BY \"dateTime_from\"'\u001b[0m\u001b[1;33m\u001b[0m\u001b[1;33m\u001b[0m\u001b[0m\n\u001b[1;32m----> 5\u001b[1;33m \u001b[0mdf\u001b[0m \u001b[1;33m=\u001b[0m \u001b[0mwrapper\u001b[0m\u001b[1;33m.\u001b[0m\u001b[0mquery_API\u001b[0m\u001b[1;33m(\u001b[0m\u001b[0msql\u001b[0m\u001b[1;33m=\u001b[0m\u001b[0mSQL_query\u001b[0m\u001b[1;33m)\u001b[0m\u001b[1;33m\u001b[0m\u001b[1;33m\u001b[0m\u001b[0m\n\u001b[0m\u001b[0;32m      6\u001b[0m \u001b[1;33m\u001b[0m\u001b[0m\n\u001b[0;32m      7\u001b[0m \u001b[0mdf\u001b[0m\u001b[1;33m.\u001b[0m\u001b[0mhead\u001b[0m\u001b[1;33m(\u001b[0m\u001b[1;33m)\u001b[0m\u001b[1;33m\u001b[0m\u001b[1;33m\u001b[0m\u001b[0m\n",
      "\u001b[1;32m~\\anaconda3\\lib\\site-packages\\NGDataPortal\\NGDataPortal.py\u001b[0m in \u001b[0;36mquery_API\u001b[1;34m(self, params, start_date, end_date, dt_col, sql, return_raw)\u001b[0m\n\u001b[0;32m     85\u001b[0m         \u001b[1;31m## Checking and parsing the response\u001b[0m\u001b[1;33m\u001b[0m\u001b[1;33m\u001b[0m\u001b[1;33m\u001b[0m\u001b[0m\n\u001b[0;32m     86\u001b[0m         \u001b[0mr_json\u001b[0m \u001b[1;33m=\u001b[0m \u001b[0mr\u001b[0m\u001b[1;33m.\u001b[0m\u001b[0mjson\u001b[0m\u001b[1;33m(\u001b[0m\u001b[1;33m)\u001b[0m\u001b[1;33m\u001b[0m\u001b[1;33m\u001b[0m\u001b[0m\n\u001b[1;32m---> 87\u001b[1;33m         \u001b[0mself\u001b[0m\u001b[1;33m.\u001b[0m\u001b[0mcheck_request_success\u001b[0m\u001b[1;33m(\u001b[0m\u001b[0mr_json\u001b[0m\u001b[1;33m)\u001b[0m\u001b[1;33m\u001b[0m\u001b[1;33m\u001b[0m\u001b[0m\n\u001b[0m\u001b[0;32m     88\u001b[0m \u001b[1;33m\u001b[0m\u001b[0m\n\u001b[0;32m     89\u001b[0m         \u001b[0mdf\u001b[0m \u001b[1;33m=\u001b[0m \u001b[0mpd\u001b[0m\u001b[1;33m.\u001b[0m\u001b[0mDataFrame\u001b[0m\u001b[1;33m(\u001b[0m\u001b[0mr_json\u001b[0m\u001b[1;33m[\u001b[0m\u001b[1;34m'result'\u001b[0m\u001b[1;33m]\u001b[0m\u001b[1;33m[\u001b[0m\u001b[1;34m'records'\u001b[0m\u001b[1;33m]\u001b[0m\u001b[1;33m)\u001b[0m\u001b[1;33m\u001b[0m\u001b[1;33m\u001b[0m\u001b[0m\n",
      "\u001b[1;32m~\\anaconda3\\lib\\site-packages\\NGDataPortal\\NGDataPortal.py\u001b[0m in \u001b[0;36mcheck_request_success\u001b[1;34m(self, r_json)\u001b[0m\n\u001b[0;32m     35\u001b[0m     \u001b[1;32mdef\u001b[0m \u001b[0mcheck_request_success\u001b[0m\u001b[1;33m(\u001b[0m\u001b[0mself\u001b[0m\u001b[1;33m,\u001b[0m \u001b[0mr_json\u001b[0m\u001b[1;33m)\u001b[0m\u001b[1;33m:\u001b[0m\u001b[1;33m\u001b[0m\u001b[1;33m\u001b[0m\u001b[0m\n\u001b[0;32m     36\u001b[0m         \u001b[1;32mif\u001b[0m \u001b[0mr_json\u001b[0m\u001b[1;33m[\u001b[0m\u001b[1;34m'success'\u001b[0m\u001b[1;33m]\u001b[0m \u001b[1;33m==\u001b[0m \u001b[1;32mFalse\u001b[0m\u001b[1;33m:\u001b[0m\u001b[1;33m\u001b[0m\u001b[1;33m\u001b[0m\u001b[0m\n\u001b[1;32m---> 37\u001b[1;33m             \u001b[0merr_msg\u001b[0m \u001b[1;33m=\u001b[0m \u001b[0mr_json\u001b[0m\u001b[1;33m[\u001b[0m\u001b[1;34m'error'\u001b[0m\u001b[1;33m]\u001b[0m\u001b[1;33m[\u001b[0m\u001b[1;34m'message'\u001b[0m\u001b[1;33m]\u001b[0m\u001b[1;33m\u001b[0m\u001b[1;33m\u001b[0m\u001b[0m\n\u001b[0m\u001b[0;32m     38\u001b[0m             \u001b[0mself\u001b[0m\u001b[1;33m.\u001b[0m\u001b[0mraise_\u001b[0m\u001b[1;33m(\u001b[0m\u001b[0merr_msg\u001b[0m\u001b[1;33m)\u001b[0m\u001b[1;33m\u001b[0m\u001b[1;33m\u001b[0m\u001b[0m\n\u001b[0;32m     39\u001b[0m \u001b[1;33m\u001b[0m\u001b[0m\n",
      "\u001b[1;31mKeyError\u001b[0m: 'message'"
     ]
    }
   ],
   "source": [
    "stream = 'generation-mix-national'\n",
    "wrapper = Wrapper(stream)\n",
    "\n",
    "SQL_query = 'SELECT * from \"0a168493-5d67-4a26-8344-2fe0a5d4d20b\" WHERE \"dateTime_from\" BETWEEN \\'2019-12-30\\'::timestamp AND \\'2019-12-31\\'::timestamp ORDER BY \"dateTime_from\"'\n",
    "df = wrapper.query_API(sql=SQL_query)\n",
    "\n",
    "df.head()"
   ]
  },
  {
   "cell_type": "code",
   "execution_count": null,
   "id": "04e74eb1-4b6d-43ed-a49a-020c3478fa50",
   "metadata": {},
   "outputs": [],
   "source": []
  }
 ],
 "metadata": {
  "kernelspec": {
   "display_name": "Python 3",
   "language": "python",
   "name": "python3"
  },
  "language_info": {
   "codemirror_mode": {
    "name": "ipython",
    "version": 3
   },
   "file_extension": ".py",
   "mimetype": "text/x-python",
   "name": "python",
   "nbconvert_exporter": "python",
   "pygments_lexer": "ipython3",
   "version": "3.8.8"
  }
 },
 "nbformat": 4,
 "nbformat_minor": 5
}
