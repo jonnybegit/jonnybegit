{
 "cells": [
  {
   "cell_type": "markdown",
   "id": "4f2635e4-30ff-4aee-aa9e-9316f6b85336",
   "metadata": {},
   "source": [
    "## Calculating Value at Risk (VaR) of a Stock Portfolio\n",
    "\n",
    "VaR is used to quantify the level of financial risk over a specified time frame. \n",
    "\n",
    "Estimate of the maximum loss from a given position or portfolio over a period of time.\n",
    "e.g. \"We have a portfolio VaR of 250,000 USD over the next month at 95% confidence. We can say with 95% confidence the Portfolio's loss will not exceed 250,000 USD in a month.\"\n",
    "\n",
    "\n",
    "2 main methods:\n",
    "- Monte Carlo\n",
    "- Variance-covariance\n",
    "\n",
    "**Variance-Covariance**\n",
    "Looks at historical price movements (standard deviation, mean price) of an equity or portfolio of equities over a specified look back theory. Then uses probability theory to calculate the maximum loss within the specified confidence interval.\n",
    "\n",
    "Note: assumes a normal distribution\n",
    "Note: Best used in standard market conditions, not well-suited to extreme / outlier events\n",
    "\n",
    "**Steps to Calculating VaR**\n",
    "\n",
    "1. Calculate periodic returns (the percentage change in the value of an assessment)\n",
    "2. Create a covariance matrix based on returns\n",
    "3. Calculate portfolio mean and standard deviation (weight based on investment levels of each stock in the portfolio)\n",
    "4. Calculate the inverse of the normal cumulative distribution (PpF) with a specified confidence interval, standard deviation and mean.\n",
    "5. Estimate the VaR by subtracting the initial investment from the calculation in step 4"
   ]
  },
  {
   "cell_type": "code",
   "execution_count": 8,
   "id": "adc0a493-923b-4f8e-bda1-023000dfbf1e",
   "metadata": {},
   "outputs": [],
   "source": [
    "import pandas as pd\n",
    "from pandas_datareader import data as pdr\n",
    "import fix_yahoo_finance as yf\n",
    "import numpy as np\n",
    "import datetime as dt"
   ]
  },
  {
   "cell_type": "code",
   "execution_count": 7,
   "id": "67ba3bab-cf85-4dff-87ba-fe353af01827",
   "metadata": {},
   "outputs": [
    {
     "data": {
      "text/html": [
       "<div>\n",
       "<style scoped>\n",
       "    .dataframe tbody tr th:only-of-type {\n",
       "        vertical-align: middle;\n",
       "    }\n",
       "\n",
       "    .dataframe tbody tr th {\n",
       "        vertical-align: top;\n",
       "    }\n",
       "\n",
       "    .dataframe thead th {\n",
       "        text-align: right;\n",
       "    }\n",
       "</style>\n",
       "<table border=\"1\" class=\"dataframe\">\n",
       "  <thead>\n",
       "    <tr style=\"text-align: right;\">\n",
       "      <th>Symbols</th>\n",
       "      <th>SSE.L</th>\n",
       "      <th>EDF.PA</th>\n",
       "      <th>ORSTED.CO</th>\n",
       "      <th>AAPL</th>\n",
       "    </tr>\n",
       "    <tr>\n",
       "      <th>Date</th>\n",
       "      <th></th>\n",
       "      <th></th>\n",
       "      <th></th>\n",
       "      <th></th>\n",
       "    </tr>\n",
       "  </thead>\n",
       "  <tbody>\n",
       "    <tr>\n",
       "      <th>2021-07-26</th>\n",
       "      <td>0.001314</td>\n",
       "      <td>-0.000922</td>\n",
       "      <td>-0.002118</td>\n",
       "      <td>0.002895</td>\n",
       "    </tr>\n",
       "    <tr>\n",
       "      <th>2021-07-27</th>\n",
       "      <td>0.001969</td>\n",
       "      <td>0.002768</td>\n",
       "      <td>-0.010823</td>\n",
       "      <td>-0.014900</td>\n",
       "    </tr>\n",
       "    <tr>\n",
       "      <th>2021-07-28</th>\n",
       "      <td>0.004257</td>\n",
       "      <td>-0.003220</td>\n",
       "      <td>0.026604</td>\n",
       "      <td>-0.012196</td>\n",
       "    </tr>\n",
       "    <tr>\n",
       "      <th>2021-07-29</th>\n",
       "      <td>-0.039778</td>\n",
       "      <td>-0.034610</td>\n",
       "      <td>-0.013584</td>\n",
       "      <td>0.004552</td>\n",
       "    </tr>\n",
       "    <tr>\n",
       "      <th>2021-07-30</th>\n",
       "      <td>-0.018336</td>\n",
       "      <td>-0.018642</td>\n",
       "      <td>-0.013347</td>\n",
       "      <td>0.001511</td>\n",
       "    </tr>\n",
       "  </tbody>\n",
       "</table>\n",
       "</div>"
      ],
      "text/plain": [
       "Symbols        SSE.L    EDF.PA  ORSTED.CO      AAPL\n",
       "Date                                               \n",
       "2021-07-26  0.001314 -0.000922  -0.002118  0.002895\n",
       "2021-07-27  0.001969  0.002768  -0.010823 -0.014900\n",
       "2021-07-28  0.004257 -0.003220   0.026604 -0.012196\n",
       "2021-07-29 -0.039778 -0.034610  -0.013584  0.004552\n",
       "2021-07-30 -0.018336 -0.018642  -0.013347  0.001511"
      ]
     },
     "execution_count": 7,
     "metadata": {},
     "output_type": "execute_result"
    }
   ],
   "source": [
    "#Create portfolio of equities\n",
    "tickers = ['SSE.L', 'EDF.PA', 'ORSTED.CO', 'AAPL']\n",
    "\n",
    "#Set investment weights for each ticker\n",
    "weights = np.array([.25, .25, .25, .25])\n",
    "\n",
    "#Set an initial investment level\n",
    "initial_investment = 1000000\n",
    "\n",
    "#download closing prices\n",
    "data = pdr.get_data_yahoo(tickers, start=\"2018-01-01\", end=dt.date.today())['Close']\n",
    "\n",
    "#Using the closing prices, calculate the periodic returns\n",
    "#pct_change() calculates the percentage change between the current and the prior element in a df\n",
    "returns = data.pct_change()\n",
    "\n",
    "returns.tail()"
   ]
  },
  {
   "cell_type": "markdown",
   "id": "cb886f1b-18ab-423d-9a81-e02a64710cbd",
   "metadata": {},
   "source": [
    "## 2. Create a Covariance Matrix for Each Stock\n",
    "Covariance is the mean value of the product of the deviations of two variables from their respective means\n",
    "xi is the data value of x\n",
    "yi is the data value of y\n",
    "xhat is the mean of x\n",
    "yhat is the mean of y\n",
    "N = nuber of data values\n",
    "\n",
    "![Alt text](https://www.gstatic.com/education/formulas2/355397047/en/covariance_formula.svg)"
   ]
  },
  {
   "cell_type": "code",
   "execution_count": 9,
   "id": "d1be68cc-e7fd-48b5-8a96-4f76001401db",
   "metadata": {},
   "outputs": [
    {
     "data": {
      "text/html": [
       "<div>\n",
       "<style scoped>\n",
       "    .dataframe tbody tr th:only-of-type {\n",
       "        vertical-align: middle;\n",
       "    }\n",
       "\n",
       "    .dataframe tbody tr th {\n",
       "        vertical-align: top;\n",
       "    }\n",
       "\n",
       "    .dataframe thead th {\n",
       "        text-align: right;\n",
       "    }\n",
       "</style>\n",
       "<table border=\"1\" class=\"dataframe\">\n",
       "  <thead>\n",
       "    <tr style=\"text-align: right;\">\n",
       "      <th>Symbols</th>\n",
       "      <th>SSE.L</th>\n",
       "      <th>EDF.PA</th>\n",
       "      <th>ORSTED.CO</th>\n",
       "      <th>AAPL</th>\n",
       "    </tr>\n",
       "    <tr>\n",
       "      <th>Symbols</th>\n",
       "      <th></th>\n",
       "      <th></th>\n",
       "      <th></th>\n",
       "      <th></th>\n",
       "    </tr>\n",
       "  </thead>\n",
       "  <tbody>\n",
       "    <tr>\n",
       "      <th>SSE.L</th>\n",
       "      <td>0.000336</td>\n",
       "      <td>0.000192</td>\n",
       "      <td>0.000145</td>\n",
       "      <td>0.000096</td>\n",
       "    </tr>\n",
       "    <tr>\n",
       "      <th>EDF.PA</th>\n",
       "      <td>0.000192</td>\n",
       "      <td>0.000506</td>\n",
       "      <td>0.000136</td>\n",
       "      <td>0.000095</td>\n",
       "    </tr>\n",
       "    <tr>\n",
       "      <th>ORSTED.CO</th>\n",
       "      <td>0.000145</td>\n",
       "      <td>0.000136</td>\n",
       "      <td>0.000324</td>\n",
       "      <td>0.000076</td>\n",
       "    </tr>\n",
       "    <tr>\n",
       "      <th>AAPL</th>\n",
       "      <td>0.000096</td>\n",
       "      <td>0.000095</td>\n",
       "      <td>0.000076</td>\n",
       "      <td>0.000445</td>\n",
       "    </tr>\n",
       "  </tbody>\n",
       "</table>\n",
       "</div>"
      ],
      "text/plain": [
       "Symbols       SSE.L    EDF.PA  ORSTED.CO      AAPL\n",
       "Symbols                                           \n",
       "SSE.L      0.000336  0.000192   0.000145  0.000096\n",
       "EDF.PA     0.000192  0.000506   0.000136  0.000095\n",
       "ORSTED.CO  0.000145  0.000136   0.000324  0.000076\n",
       "AAPL       0.000096  0.000095   0.000076  0.000445"
      ]
     },
     "execution_count": 9,
     "metadata": {},
     "output_type": "execute_result"
    }
   ],
   "source": [
    "#Generate a covariance matrix based on the returns\n",
    "cov_matrix = returns.cov()\n",
    "cov_matrix"
   ]
  },
  {
   "cell_type": "markdown",
   "id": "bbddb481-3710-4e45-9008-b5534471b5b2",
   "metadata": {},
   "source": [
    "## 3. Calculate the Portfolio Mean and the Standard Deviation\n",
    "\n",
    "The dot product relies on:\n",
    "a · b = ax × bx + ay × by\n",
    "\n",
    "![ChessUrl](https://www.mathsisfun.com/algebra/images/dot-product-2.gif \"chess\")\n"
   ]
  },
  {
   "cell_type": "code",
   "execution_count": 30,
   "id": "d0ced46f-3c33-453d-b999-4d0c06d6ca29",
   "metadata": {},
   "outputs": [
    {
     "name": "stdout",
     "output_type": "stream",
     "text": [
      "Average Returns for Each Stock: \n",
      " Symbols\n",
      "SSE.L        0.000284\n",
      "EDF.PA       0.000228\n",
      "ORSTED.CO    0.001259\n",
      "AAPL         0.001544\n",
      "dtype: float64\n",
      "Mean Return for Overall Portfolio 0.0008287424724943478\n",
      "Portfolio Standard Deviation is: 0.013904199251941406\n",
      "Mean Investment of the Portfolio is: 1000828.7424724944\n",
      "Standard Deviation of the Investment is: 13904.199251941405\n"
     ]
    }
   ],
   "source": [
    "avg_rets = returns.mean()\n",
    "print(\"Average Returns for Each Stock:\",\"\\n\", avg_rets)\n",
    "\n",
    "#Calculate mean returns for portfolio overall using the dot product to normalize individual means \n",
    "#against investment weights\n",
    "port_mean = avg_rets.dot(weights)\n",
    "print(\"Mean Return for Overall Portfolio\", port_mean)\n",
    "\n",
    "#Calculate standard deviation of Portfolio\n",
    "#.T is the transport of the array\n",
    "port_stdev = np.sqrt(weights.T.dot(cov_matrix).dot(weights))\n",
    "print(\"Portfolio Standard Deviation is:\", port_stdev)\n",
    "\n",
    "#Calculate the mean of investment\n",
    "mean_investment = (1+port_mean) * initial_investment\n",
    "print(\"Mean Investment of the Portfolio is:\", mean_investment)\n",
    "\n",
    "#Calculate standard deviation of the investment\n",
    "stdev_investment = initial_investment * port_stdev\n",
    "print(\"Standard Deviation of the Investment is:\", stdev_investment)"
   ]
  },
  {
   "cell_type": "markdown",
   "id": "003eaf5c-d72e-4bfa-aa0f-650b9c20d504",
   "metadata": {},
   "source": [
    "## 4. Calculate the Inverse of the Normal Cumulative Distribution (PPF) With a Specified Confidence Interval"
   ]
  },
  {
   "cell_type": "code",
   "execution_count": 32,
   "id": "28bb1ebf-827e-4206-b4ef-1ccadeeafeea",
   "metadata": {},
   "outputs": [
    {
     "name": "stdout",
     "output_type": "stream",
     "text": [
      "977958.3699030826\n"
     ]
    }
   ],
   "source": [
    "#Set a confidence level (95% confidence level)\n",
    "conf_level1 = 0.05\n",
    "#Use scipy ppf to generate values for the inverse cumulative distribution function to a normal\n",
    "#distribution\n",
    "from scipy.stats import norm\n",
    "cutoff1 = norm.ppf(conf_level1, mean_investment, stdev_investment)\n",
    "print(cutoff1)"
   ]
  },
  {
   "cell_type": "markdown",
   "id": "1ce73c1d-7a98-477b-8cc3-a8a6d2084bd7",
   "metadata": {},
   "source": [
    "## 5. Estimate the Value at Risk (VaR)\n",
    "Do so by subtracting the inverse of the normal cumulative distribution (PPF) from the initial investment"
   ]
  },
  {
   "cell_type": "code",
   "execution_count": 38,
   "id": "835b3295-d881-4abb-bc1d-c79df59caff9",
   "metadata": {},
   "outputs": [
    {
     "name": "stdout",
     "output_type": "stream",
     "text": [
      "<class 'numpy.float64'>\n",
      "The VaR is 22041.63009691739\n"
     ]
    }
   ],
   "source": [
    "var_1d1 = initial_investment - cutoff1\n",
    "print(type(var_1d1))\n",
    "print(\"The VaR is\", var_1d1)\n",
    "#Here we are saying with 95% conifdence that our portfolio of 1M USD that our portfolio will not exceed losses\n",
    "#greater than 22.3k USD over a one day period"
   ]
  },
  {
   "cell_type": "markdown",
   "id": "395b54ca-0c67-408a-8ca0-388add22e4ea",
   "metadata": {},
   "source": [
    "## Calculating VaR Over an N-Day Time Period\n",
    "We can calculate the VaR over a larger window of time by taking our 1 day VaR and multiplying it by the square root of the time period (as the standard deviation of stock returns tends to increase with the square root of time)"
   ]
  },
  {
   "cell_type": "code",
   "execution_count": 42,
   "id": "a1eb17bd-8a6b-4e17-b936-e7e56df934d4",
   "metadata": {},
   "outputs": [
    {
     "name": "stdout",
     "output_type": "stream",
     "text": [
      "1 day VaR @ 95% confidence: 22041.63\n",
      "2 day VaR @ 95% confidence: 31171.57\n",
      "3 day VaR @ 95% confidence: 38177.22\n",
      "4 day VaR @ 95% confidence: 44083.26\n",
      "5 day VaR @ 95% confidence: 49286.58\n",
      "6 day VaR @ 95% confidence: 53990.75\n",
      "7 day VaR @ 95% confidence: 58316.67\n",
      "8 day VaR @ 95% confidence: 62343.14\n",
      "9 day VaR @ 95% confidence: 66124.89\n",
      "10 day VaR @ 95% confidence: 69701.75\n"
     ]
    },
    {
     "data": {
      "text/plain": [
       "[<matplotlib.lines.Line2D at 0x1e253ff2ac0>]"
      ]
     },
     "execution_count": 42,
     "metadata": {},
     "output_type": "execute_result"
    },
    {
     "data": {
      "image/png": "[encoded data removed]",
      "text/plain": [
       "<Figure size 432x288 with 1 Axes>"
      ]
     },
     "metadata": {
      "needs_background": "light"
     },
     "output_type": "display_data"
    }
   ],
   "source": [
    "var_array = []\n",
    "num_days = int(10)\n",
    "\n",
    "for x in range (1, num_days+1):\n",
    "    var_array.append(np.round(var_1d1*np.sqrt(x), 2))\n",
    "    print(str(x) + \" day VaR @ 95% confidence: \" + str(np.round(var_1d1 * np.sqrt(x) ,2)))\n",
    "\n",
    "#Build a plot\n",
    "import matplotlib.pyplot as plt\n",
    "plt.xlabel(\"Day #\")\n",
    "plt.ylabel(\"Max Portfolio Loss (USD)\")\n",
    "plt.title(\"Max Portfolio Loss (VaR) Over 15-day Period\")\n",
    "plt.plot(var_array, \"r\")"
   ]
  },
  {
   "cell_type": "markdown",
   "id": "765c8831-f634-4fa2-b509-284ef13f8922",
   "metadata": {},
   "source": [
    "## Do Distributions of our Equities Match a Normal Distribution?\n",
    "\n",
    "We can check whether historical returns have been distributed to help assess whether VaR is suitable\n"
   ]
  },
  {
   "cell_type": "code",
   "execution_count": 48,
   "id": "6dac9dbe-6b59-48d8-8e49-96f6b05b54fa",
   "metadata": {},
   "outputs": [
    {
     "data": {
      "image/png": "[encoded data removed]",
      "text/plain": [
       "<Figure size 432x288 with 1 Axes>"
      ]
     },
     "metadata": {
      "needs_background": "light"
     },
     "output_type": "display_data"
    }
   ],
   "source": [
    "import matplotlib.mlab as mlab\n",
    "import matplotlib.pyplot as plt\n",
    "import scipy\n",
    "\n",
    "returns['SSE.L'].hist(bins=40, histtype=\"stepfilled\",alpha=0.5)\n",
    "x = np.linspace(port_mean - 3*port_stdev, port_mean+3*port_stdev,100)\n",
    "plt.plot(x, scipy.stats.norm.pdf(x, port_mean, port_stdev), \"r\")\n",
    "plt.title(\"SSE returns (binned) vs. normal distribution\")\n",
    "plt.show()"
   ]
  },
  {
   "cell_type": "code",
   "execution_count": null,
   "id": "12da2bbb-7205-4138-a81f-76207d59bdf5",
   "metadata": {},
   "outputs": [],
   "source": []
  }
 ],
 "metadata": {
  "kernelspec": {
   "display_name": "Python 3",
   "language": "python",
   "name": "python3"
  },
  "language_info": {
   "codemirror_mode": {
    "name": "ipython",
    "version": 3
   },
   "file_extension": ".py",
   "mimetype": "text/x-python",
   "name": "python",
   "nbconvert_exporter": "python",
   "pygments_lexer": "ipython3",
   "version": "3.8.8"
  }
 },
 "nbformat": 4,
 "nbformat_minor": 5
}
